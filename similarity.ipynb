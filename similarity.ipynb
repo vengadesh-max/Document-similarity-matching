{
 "cells": [
  {
   "cell_type": "code",
   "execution_count": 2,
   "metadata": {},
   "outputs": [],
   "source": [
    "import pdfplumber\n",
    "\n",
    "def extract_text_from_pdf(pdf_path):\n",
    "    with pdfplumber.open(pdf_path) as pdf:\n",
    "        text = \"\"\n",
    "        for page in pdf.pages:\n",
    "            text += page.extract_text() + \"\\n\"\n",
    "    return text\n"
   ]
  },
  {
   "cell_type": "code",
   "execution_count": 3,
   "metadata": {},
   "outputs": [],
   "source": [
    "from sklearn.feature_extraction.text import TfidfVectorizer\n",
    "\n",
    "def extract_features(documents):\n",
    "    vectorizer = TfidfVectorizer(stop_words='english')\n",
    "    X = vectorizer.fit_transform(documents)\n",
    "    return X, vectorizer\n"
   ]
  },
  {
   "cell_type": "code",
   "execution_count": 4,
   "metadata": {},
   "outputs": [],
   "source": [
    "from sklearn.metrics.pairwise import cosine_similarity\n",
    "\n",
    "def calculate_similarity(query_vector, database_vectors):\n",
    "    similarities = cosine_similarity(query_vector, database_vectors)\n",
    "    return similarities\n"
   ]
  },
  {
   "cell_type": "code",
   "execution_count": null,
   "metadata": {},
   "outputs": [],
   "source": [
    "# query_pdf = '/absolute/path/to/query_invoice.pdf'\n",
    "# database_pdfs = [\n",
    "#     '/absolute/path/to/invoice1.pdf',\n",
    "#     '/absolute/path/to/invoice2.pdf',\n",
    "#     '/absolute/path/to/invoice3.pdf'\n",
    "# ]\n"
   ]
  },
  {
   "cell_type": "code",
   "execution_count": 11,
   "metadata": {},
   "outputs": [
    {
     "name": "stdout",
     "output_type": "stream",
     "text": [
      "Most similar invoice index: 0, Similarity score: 0.029014676924131705\n"
     ]
    }
   ],
   "source": [
    "def find_most_similar_invoice(query_pdf_path, database_pdfs):\n",
    "    # Extract text from the query PDF\n",
    "    query_text = extract_text_from_pdf(query_pdf_path)\n",
    "    \n",
    "    # Extract text from the database PDFs\n",
    "    database_texts = [extract_text_from_pdf(pdf) for pdf in database_pdfs]\n",
    "    \n",
    "    # Add query text to the list of database texts\n",
    "    all_texts = [query_text] + database_texts\n",
    "    \n",
    "    # Extract features\n",
    "    X, vectorizer = extract_features(all_texts)\n",
    "    \n",
    "    # Query vector is the first row, database vectors are the rest\n",
    "    query_vector = X[0:1]\n",
    "    database_vectors = X[1:]\n",
    "    \n",
    "    # Calculate similarity\n",
    "    similarities = calculate_similarity(query_vector, database_vectors)\n",
    "    \n",
    "    # Find the index of the most similar document\n",
    "    most_similar_index = similarities.argmax()\n",
    "    most_similar_score = similarities[0][most_similar_index]\n",
    "    \n",
    "    return most_similar_index, most_similar_score\n",
    "\n",
    "# Example usage\n",
    "query_pdf = 'query_invoice.pdf'\n",
    "database_pdfs = ['invoice1.pdf']\n",
    "\n",
    "index, score = find_most_similar_invoice(query_pdf, database_pdfs)\n",
    "print(f\"Most similar invoice index: {index}, Similarity score: {score}\")\n"
   ]
  }
 ],
 "metadata": {
  "kernelspec": {
   "display_name": "Python 3",
   "language": "python",
   "name": "python3"
  },
  "language_info": {
   "codemirror_mode": {
    "name": "ipython",
    "version": 3
   },
   "file_extension": ".py",
   "mimetype": "text/x-python",
   "name": "python",
   "nbconvert_exporter": "python",
   "pygments_lexer": "ipython3",
   "version": "3.12.4"
  }
 },
 "nbformat": 4,
 "nbformat_minor": 2
}
