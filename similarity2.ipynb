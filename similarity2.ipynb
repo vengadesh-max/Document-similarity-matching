{
 "cells": [
  {
   "cell_type": "code",
   "execution_count": 5,
   "metadata": {},
   "outputs": [],
   "source": [
    "import pdfplumber\n",
    "\n",
    "def extract_text_from_pdf(pdf_path):\n",
    "    text = \"\"\n",
    "    with pdfplumber.open(pdf_path) as pdf:\n",
    "        for page in pdf.pages:\n",
    "            text += page.extract_text()\n",
    "    return text\n"
   ]
  },
  {
   "cell_type": "code",
   "execution_count": 6,
   "metadata": {},
   "outputs": [],
   "source": [
    "import re\n",
    "\n",
    "def extract_features(text):\n",
    "    features = {}\n",
    "    \n",
    "    # Extract invoice number\n",
    "    invoice_number = re.search(r'Invoice Number:\\s*(\\S+)', text)\n",
    "    features['invoice_number'] = invoice_number.group(1) if invoice_number else \"\"\n",
    "    \n",
    "    # Extract dates\n",
    "    date = re.search(r'Date:\\s*([\\d/]+)', text)\n",
    "    features['date'] = date.group(1) if date else \"\"\n",
    "    \n",
    "    # Extract amounts\n",
    "    amount = re.search(r'Total Amount:\\s*([\\d,.]+)', text)\n",
    "    features['amount'] = amount.group(1) if amount else \"\"\n",
    "    \n",
    "    # Extract keywords (you can use more sophisticated methods like TF-IDF)\n",
    "    keywords = re.findall(r'\\b\\w+\\b', text)\n",
    "    features['keywords'] = set(keywords)\n",
    "    \n",
    "    return features\n"
   ]
  },
  {
   "cell_type": "code",
   "execution_count": 7,
   "metadata": {},
   "outputs": [],
   "source": [
    "from sklearn.feature_extraction.text import TfidfVectorizer\n",
    "from sklearn.metrics.pairwise import cosine_similarity\n",
    "\n",
    "def calculate_cosine_similarity(text1, text2):\n",
    "    vectorizer = TfidfVectorizer()\n",
    "    vectors = vectorizer.fit_transform([text1, text2])\n",
    "    similarity = cosine_similarity(vectors[0:1], vectors[1:2])\n",
    "    return similarity[0][0]\n"
   ]
  },
  {
   "cell_type": "code",
   "execution_count": 8,
   "metadata": {},
   "outputs": [],
   "source": [
    "def calculate_jaccard_similarity(set1, set2):\n",
    "    intersection = len(set1.intersection(set2))\n",
    "    union = len(set1.union(set2))\n",
    "    return intersection / union if union != 0 else 0\n"
   ]
  },
  {
   "cell_type": "code",
   "execution_count": 10,
   "metadata": {},
   "outputs": [],
   "source": [
    "from pdf2image import convert_from_path\n",
    "\n",
    "def pdf_to_images(pdf_path):\n",
    "    return convert_from_path(pdf_path)\n"
   ]
  },
  {
   "cell_type": "code",
   "execution_count": 20,
   "metadata": {},
   "outputs": [],
   "source": [
    "invoice_database = {\n",
    "    'invoice1.pdf': extract_features(extract_text_from_pdf('invoice1.pdf')),\n",
    "    'invoice2.pdf': extract_features(extract_text_from_pdf('invoice2.pdf')),\n",
    "    # Add more invoices as needed\n",
    "}\n",
    "\n",
    "def find_most_similar_invoice(input_invoice_path):\n",
    "    input_text = extract_text_from_pdf(input_invoice_path)\n",
    "    input_features = extract_features(input_text)\n",
    "    \n",
    "    best_similarity = 0\n",
    "    most_similar_invoice = None\n",
    "    \n",
    "    for invoice_path, features in invoice_database.items():\n",
    "        database_text = extract_text_from_pdf(invoice_path)\n",
    "        \n",
    "        # Calculate similarity\n",
    "        similarity = calculate_cosine_similarity(input_text, database_text)\n",
    "        \n",
    "        if similarity > best_similarity:\n",
    "            best_similarity = similarity\n",
    "            most_similar_invoice = invoice_path\n",
    "    \n",
    "    return most_similar_invoice, best_similarity\n"
   ]
  },
  {
   "cell_type": "code",
   "execution_count": 21,
   "metadata": {},
   "outputs": [
    {
     "name": "stdout",
     "output_type": "stream",
     "text": [
      "Most similar invoice: invoice1.pdf\n",
      "Similarity score: 1.0000000000000004\n"
     ]
    }
   ],
   "source": [
    "input_invoice_path = 'invoice1.pdf'\n",
    "most_similar_invoice, similarity_score = find_most_similar_invoice(input_invoice_path)\n",
    "\n",
    "print(f'Most similar invoice: {most_similar_invoice}')\n",
    "print(f'Similarity score: {similarity_score}')\n"
   ]
  },
  {
   "cell_type": "code",
   "execution_count": 31,
   "metadata": {},
   "outputs": [],
   "source": [
    "def extract_text_from_pdf(pdf_path):\n",
    "    \"\"\"Extracts text from a PDF file.\"\"\"\n",
    "    text = \"\"\n",
    "    with pdfplumber.open(pdf_path) as pdf:\n",
    "        for page in pdf.pages:\n",
    "            text += page.extract_text()\n",
    "    print(\"Extracted Text:\\n\", text)  # Print the text to debug\n",
    "    return text\n"
   ]
  },
  {
   "cell_type": "code",
   "execution_count": 32,
   "metadata": {},
   "outputs": [],
   "source": [
    "def extract_invoice_number(text):\n",
    "    \"\"\"Extracts the invoice number from the text.\"\"\"\n",
    "    match = re.search(r'Invoice\\s*Number[:\\s]*([\\w\\-]+)', text, re.IGNORECASE)\n",
    "    return match.group(1) if match else None\n"
   ]
  },
  {
   "cell_type": "code",
   "execution_count": 33,
   "metadata": {},
   "outputs": [],
   "source": [
    "def extract_date(text):\n",
    "    \"\"\"Extracts the date from the text.\"\"\"\n",
    "    match = re.search(r'\\b(?:Date|Issue Date|Invoice Date):?\\s*([\\d/]{8,10}|\\d{4}-\\d{2}-\\d{2})', text, re.IGNORECASE)\n",
    "    return match.group(1) if match else None\n"
   ]
  },
  {
   "cell_type": "code",
   "execution_count": 34,
   "metadata": {},
   "outputs": [],
   "source": [
    "def extract_amount(text):\n",
    "    \"\"\"Extracts the total amount from the text.\"\"\"\n",
    "    match = re.search(r'Total\\s*Amount[:\\s]*[\\$]?([\\d,\\.]+)', text, re.IGNORECASE)\n",
    "    return match.group(1) if match else None\n"
   ]
  },
  {
   "cell_type": "code",
   "execution_count": 36,
   "metadata": {},
   "outputs": [
    {
     "name": "stdout",
     "output_type": "stream",
     "text": [
      "Sample Text:\n",
      " \n",
      "Invoice Number: INV-12345\n",
      "Date: 07/30/2024\n",
      "Total Amount: $1,234.56\n",
      "\n",
      "Invoice Number: INV-12345\n",
      "Date: 07/30/2024\n",
      "Amount: 1,234.56\n"
     ]
    }
   ],
   "source": [
    "sample_text = \"\"\"\n",
    "Invoice Number: INV-12345\n",
    "Date: 07/30/2024\n",
    "Total Amount: $1,234.56\n",
    "\"\"\"\n",
    "\n",
    "print(\"Sample Text:\\n\", sample_text)\n",
    "\n",
    "invoice_number = extract_invoice_number(sample_text)\n",
    "date = extract_date(sample_text)\n",
    "amount = extract_amount(sample_text)\n",
    "\n",
    "print(f'Invoice Number: {invoice_number}')\n",
    "print(f'Date: {date}')\n",
    "print(f'Amount: {amount}')\n"
   ]
  },
  {
   "cell_type": "code",
   "execution_count": 37,
   "metadata": {},
   "outputs": [
    {
     "name": "stdout",
     "output_type": "stream",
     "text": [
      "Extracted Text:\n",
      " Invoice\n",
      "Invoice Number INV-3337\n",
      "From:\n",
      "DEMO - Sliced Invoices Order Number 12345\n",
      "Suite 5A-1204 Invoice Date January 25, 2016\n",
      "123 Somewhere Street\n",
      "Due Date January 31, 2016\n",
      "Your City AZ 12345\n",
      "Total Due $93.50\n",
      "admin@slicedinvoices.com\n",
      "To:\n",
      "Test Business\n",
      "123 Somewhere St\n",
      "d\n",
      "Melbourne, VIC 3000\n",
      "test@test.com\n",
      "i\n",
      "Hrs/Qty Service Rate/Price Adjust Sub Total\n",
      "a\n",
      "Web Design\n",
      "1.00 $85.00 0.00% $85.00\n",
      "This is a sample description...\n",
      "P\n",
      "Sub Total $85.00\n",
      "Tax $8.50\n",
      "Total $93.50\n",
      "ANZ Bank\n",
      "ACC # 1234 1234\n",
      "BSB # 4321 432\n",
      "Payment is due within 30 days from date of invoice. Late payment is subject to fees of 5% per month.\n",
      "Thanks for choosing DEMO - Sliced Invoices | admin@slicedinvoices.com\n",
      "Page 1/1\n",
      "Invoice Number: INV-3337\n",
      "Date: None\n",
      "Amount: None\n"
     ]
    }
   ],
   "source": [
    "import pdfplumber\n",
    "import re\n",
    "\n",
    "def extract_text_from_pdf(pdf_path):\n",
    "    \"\"\"Extracts text from a PDF file.\"\"\"\n",
    "    text = \"\"\n",
    "    with pdfplumber.open(pdf_path) as pdf:\n",
    "        for page in pdf.pages:\n",
    "            text += page.extract_text()\n",
    "    print(\"Extracted Text:\\n\", text)  # Print the text to debug\n",
    "    return text\n",
    "\n",
    "def extract_invoice_number(text):\n",
    "    \"\"\"Extracts the invoice number from the text.\"\"\"\n",
    "    match = re.search(r'Invoice\\s*Number[:\\s]*([\\w\\-]+)', text, re.IGNORECASE)\n",
    "    return match.group(1) if match else None\n",
    "\n",
    "def extract_date(text):\n",
    "    \"\"\"Extracts the date from the text.\"\"\"\n",
    "    match = re.search(r'\\b(?:Date|Issue Date|Invoice Date):?\\s*([\\d/]{8,10}|\\d{4}-\\d{2}-\\d{2})', text, re.IGNORECASE)\n",
    "    return match.group(1) if match else None\n",
    "\n",
    "def extract_amount(text):\n",
    "    \"\"\"Extracts the total amount from the text.\"\"\"\n",
    "    match = re.search(r'Total\\s*Amount[:\\s]*[\\$]?([\\d,\\.]+)', text, re.IGNORECASE)\n",
    "    return match.group(1) if match else None\n",
    "\n",
    "def extract_invoice_details(pdf_path):\n",
    "    \"\"\"Extracts invoice details (number, date, amount) directly from a PDF.\"\"\"\n",
    "    text = extract_text_from_pdf(pdf_path)\n",
    "    \n",
    "    invoice_number = extract_invoice_number(text)\n",
    "    date = extract_date(text)\n",
    "    amount = extract_amount(text)\n",
    "    \n",
    "    return {\n",
    "        'Invoice Number': invoice_number,\n",
    "        'Date': date,\n",
    "        'Amount': amount\n",
    "    }\n",
    "\n",
    "# Example usage\n",
    "pdf_path = 'query_invoice.pdf'  # Update this path to your actual PDF file\n",
    "details = extract_invoice_details(pdf_path)\n",
    "\n",
    "print(f'Invoice Number: {details[\"Invoice Number\"]}')\n",
    "print(f'Date: {details[\"Date\"]}')\n",
    "print(f'Amount: {details[\"Amount\"]}')\n"
   ]
  }
 ],
 "metadata": {
  "kernelspec": {
   "display_name": "Python 3",
   "language": "python",
   "name": "python3"
  },
  "language_info": {
   "codemirror_mode": {
    "name": "ipython",
    "version": 3
   },
   "file_extension": ".py",
   "mimetype": "text/x-python",
   "name": "python",
   "nbconvert_exporter": "python",
   "pygments_lexer": "ipython3",
   "version": "3.12.4"
  }
 },
 "nbformat": 4,
 "nbformat_minor": 2
}
